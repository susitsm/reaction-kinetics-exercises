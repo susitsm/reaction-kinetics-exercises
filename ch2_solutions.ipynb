{
 "cells": [
  {
   "cell_type": "markdown",
   "id": "dceeba6b",
   "metadata": {},
   "source": [
    "## 2.1\n",
    "TODO: latex it\n",
    "\n",
    "\n"
   ]
  },
  {
   "cell_type": "markdown",
   "id": "e94e0fb5",
   "metadata": {},
   "source": [
    "## 2.2\n",
    "Could not find anything else besides the [package accompanying the book](https://storage.googleapis.com/springer-extras/zip/2018/978-1-4939-8643-9.zip)"
   ]
  },
  {
   "cell_type": "markdown",
   "id": "889a25b0",
   "metadata": {},
   "source": [
    "## 2.3\n",
    " - [Descriptive reaction kinetics](https://demonstrations.wolfram.com/DescriptiveReactionKinetics/)\n",
    " - [Deterministic vs stochastic chemical kinetics](https://demonstrations.wolfram.com/DeterministicVersusStochasticChemicalKinetics/)\n",
    " - [Volpert graph](https://demonstrations.wolfram.com/VolpertGraph/)"
   ]
  },
  {
   "cell_type": "markdown",
   "id": "05c8c19d",
   "metadata": {},
   "source": [
    "## 2.4"
   ]
  },
  {
   "cell_type": "code",
   "execution_count": 1,
   "id": "497918fe",
   "metadata": {},
   "outputs": [
    {
     "data": {
      "text/html": [
       "<style>\n",
       "\t\t\t\t\t\t\t\t\t\t\t\t\t.grid-container {\n",
       "\t\t\t\t\t\t\t\t\t\t\t\t\t\tdisplay: inline-grid;\n",
       "\t\t\t\t\t\t\t\t\t\t\t\t\t\tgrid-template-columns: auto;\n",
       "\t\t\t\t\t\t\t\t\t\t\t\t\t}\n",
       "\t\t\t\t\t\t\t\t\t\t\t\t</style>\n",
       "\n",
       "\t\t\t\t\t\t\t\t\t\t\t\t<div><div class=\"grid-container\"><div class=\"grid-item\"><img alt=\"Output\" src=\"data:image/png;base64,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\"></div><div class=\"grid-item\"><img alt=\"Output\" src=\"data:image/png;base64,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\"></div></div></div>"
      ],
      "text/plain": [
       "{A -> B, 2 B -> 3 C}\n",
       "{{A, B, C}, 3}"
      ]
     },
     "execution_count": 3,
     "metadata": {
      "text/html": [],
      "text/plain": []
     },
     "output_type": "execute_result"
    }
   ],
   "source": [
    "ReactionStepVariables[x_ -> y_] := Union[Variables[x], Variables[y]]\n",
    "SpeciesSet[x__] := Union[Flatten[Map[ReactionStepVariables, x]]]\n",
    "reaction = {A -> B, 2 B -> 3 C}\n",
    "{SpeciesSet[reaction], Length[SpeciesSet[reaction]]}\n"
   ]
  },
  {
   "cell_type": "markdown",
   "id": "39479205",
   "metadata": {},
   "source": [
    "## 2.5"
   ]
  },
  {
   "cell_type": "code",
   "execution_count": 5,
   "id": "676ae7df",
   "metadata": {},
   "outputs": [
    {
     "data": {
      "text/html": [
       "<style>\n",
       "\t\t\t\t\t\t\t\t\t\t\t\t\t.grid-container {\n",
       "\t\t\t\t\t\t\t\t\t\t\t\t\t\tdisplay: inline-grid;\n",
       "\t\t\t\t\t\t\t\t\t\t\t\t\t\tgrid-template-columns: auto;\n",
       "\t\t\t\t\t\t\t\t\t\t\t\t\t}\n",
       "\t\t\t\t\t\t\t\t\t\t\t\t</style>\n",
       "\n",
       "\t\t\t\t\t\t\t\t\t\t\t\t<div><div class=\"grid-container\"><div class=\"grid-item\"><img alt=\"Output\" src=\"data:image/png;base64,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\"></div><div class=\"grid-item\"><img alt=\"Output\" src=\"data:image/png;base64,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\"></div></div></div>"
      ],
      "text/plain": [
       "{A -> B, 2 B <-> 3 C}\n",
       "{{A -> B, 2 B -> 3 C, 3 C -> 2 B}, 3}"
      ]
     },
     "execution_count": 8,
     "metadata": {
      "text/html": [],
      "text/plain": []
     },
     "output_type": "execute_result"
    }
   ],
   "source": [
    "StandardizeReactionStep[x_ -> y_] := {x -> y}\n",
    "StandardizeReactionStep[x_ <-> y_] := {x -> y, y -> x}\n",
    "ReactionSteps[x__] := Union[Flatten[Map[StandardizeReactionStep, x]]]\n",
    "reaction = {A -> B, 2 B <-> 3 C}\n",
    "{ReactionSteps[reaction], Length[ReactionSteps[reaction]]}"
   ]
  },
  {
   "cell_type": "markdown",
   "id": "d1e647cf",
   "metadata": {},
   "source": [
    "## 2.6"
   ]
  },
  {
   "cell_type": "code",
   "execution_count": 10,
   "id": "8b597687",
   "metadata": {},
   "outputs": [
    {
     "data": {
      "text/html": [
       "<style>\n",
       "\t\t\t\t\t\t\t\t\t\t\t\t\t.grid-container {\n",
       "\t\t\t\t\t\t\t\t\t\t\t\t\t\tdisplay: inline-grid;\n",
       "\t\t\t\t\t\t\t\t\t\t\t\t\t\tgrid-template-columns: auto;\n",
       "\t\t\t\t\t\t\t\t\t\t\t\t\t}\n",
       "\t\t\t\t\t\t\t\t\t\t\t\t</style>\n",
       "\n",
       "\t\t\t\t\t\t\t\t\t\t\t\t<div><div class=\"grid-container\"><div class=\"grid-item\"><img alt=\"Output\" src=\"data:image/png;base64,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\"></div><div class=\"grid-item\"><img alt=\"Output\" src=\"data:image/png;base64,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\"></div></div></div>"
      ],
      "text/plain": [
       "{A -> B, 2 B <-> 3 C}\n",
       "{{1, 0, 0}, {0, 2, 0}, {0, 0, 3}}"
      ]
     },
     "execution_count": 21,
     "metadata": {
      "text/html": [],
      "text/plain": []
     },
     "output_type": "execute_result"
    }
   ],
   "source": [
    "StandardizeReactionStep[x_ -> y_] := {{x, y}}\n",
    "StandardizeReactionStep[x_ <-> y_] := {{x, y}, {y, x}}\n",
    "StandardizedReactionSteps[x_] := Union[Flatten[Map[StandardizeReactionStep, x], 1]]\n",
    "\n",
    "ReactionStepSpecies[{x_, y_}] := Union[Variables[x], Variables[y]]\n",
    "Species[x_] := Union[Flatten[Map[ReactionStepSpecies, StandardizedReactionSteps[x]]]]\n",
    "\n",
    "AlphaIJ[steps_, species_] := (Replace[steps[[#2]][[1]], species[[#1]] -> 1, {0,2}] - Replace[steps[[#2]][[1]], species[[#1]] -> 0, {0,2}])&\n",
    "BetaIJ[steps_, species_] := (Replace[steps[[#2]][[2]], species[[#1]] -> 1, {0,2}] - Replace[steps[[#2]][[2]], species[[#1]] -> 0, {0,2}])&\n",
    "\n",
    "AlphaMatrix[x_] := Array[AlphaIJ[StandardizedReactionSteps[x], Species[x]], {Length[Species[x]], Length[StandardizedReactionSteps[x]]}]\n",
    "BetaMatrix[x_] := Array[BetaIJ[StandardizedReactionSteps[x], Species[x]], {Length[Species[x]], Length[StandardizedReactionSteps[x]]}]\n",
    "\n",
    "ReactionMatrices[alpha] = AlphaMatrix;\n",
    "ReactionMatrices[beta] = BetaMatrix;\n",
    "\n",
    "reaction = {A -> B, 2 B <-> 3 C}\n",
    "AlphaMatrix[reaction]"
   ]
  },
  {
   "cell_type": "markdown",
   "id": "dfefec71",
   "metadata": {},
   "source": [
    "## 2.7"
   ]
  },
  {
   "cell_type": "code",
   "execution_count": 23,
   "id": "5b95f89d",
   "metadata": {},
   "outputs": [
    {
     "ename": "Species::shdw",
     "evalue": "Symbol Species appears in multiple contexts {ReactionKinetics`, Global`}; definitions in context ReactionKinetics` may shadow or be shadowed by other definitions.",
     "output_type": "error",
     "traceback": [
      "\u001b[0;31mSpecies::shdw: Symbol Species appears in multiple contexts {ReactionKinetics`, Global`}; definitions in context ReactionKinetics` may shadow or be shadowed by other definitions.\u001b[0m"
     ]
    },
    {
     "ename": "Syntax::stresc",
     "evalue": "Unknown string escape \\M.",
     "output_type": "error",
     "traceback": [
      "\u001b[0;31mSyntax::stresc: Unknown string escape \\M.\u001b[0m"
     ]
    },
    {
     "name": "stdout",
     "output_type": "stream",
     "text": [
      "ReactionKinetics Version 1.0 [March 25, 2018] using Mathematica Version\\\n",
      "                 \n",
      "                >   13.0.1 for Linux x86 (64-bit) (January 29, 2022) (Version\\\n",
      "                 \n",
      "                >   13., Release 1) loaded 16 June 2022 at 00:08 TimeZone\n",
      "                GNU General Public License (GPLv3) Terms Apply. \n",
      "Please report any issues, comments, complaint related to ReactionKinetics at\n",
      "\n",
      " \n",
      ">   Hyperlink[jtoth@math.bme.hu, mailto:jtoth@math.bme.hu], \n",
      " \n",
      ">   Hyperlink[nagyal@math.bme.hu, mailto:nagyal@math.bme.hu] or \n",
      " \n",
      ">   Hyperlink[dpapp@iems.northwestern.edu, mailto:dpapp@iems.northwestern.edu]\n"
     ]
    },
    {
     "data": {
      "text/html": [
       "<div><pre style=\"&#102;&#111;&#110;&#116;&#45;&#102;&#97;&#109;&#105;&#108;&#121;&#58;&#32;&#34;&#67;&#111;&#117;&#114;&#105;&#101;&#114;&#32;&#78;&#101;&#119;&#34;&#44;&#67;&#111;&#117;&#114;&#105;&#101;&#114;&#44;&#109;&#111;&#110;&#111;&#115;&#112;&#97;&#99;&#101;&#59;\">&#123;&#83;&#112;&#97;&#114;&#115;&#101;&#65;&#114;&#114;&#97;&#121;&#91;&#60;&#50;&#62;&#44;&#32;&#123;&#52;&#44;&#32;&#50;&#125;&#93;&#44;&#32;&#83;&#112;&#97;&#114;&#115;&#101;&#65;&#114;&#114;&#97;&#121;&#91;&#60;&#50;&#62;&#44;&#32;&#123;&#52;&#44;&#32;&#50;&#125;&#93;&#125;</pre></div>"
      ],
      "text/plain": [
       "{SparseArray[<2>, {4, 2}], SparseArray[<2>, {4, 2}]}"
      ]
     },
     "execution_count": 24,
     "metadata": {
      "text/html": [],
      "text/plain": []
     },
     "output_type": "execute_result"
    }
   ],
   "source": [
    "Get[\"ReactionKinetics.wl\"];\n",
    "{alpha, beta} = ReactionsData[{E + S1 <-> ES1 <-> ESS1 -> ES + P1, ES + S2 <-> ESS2 <-> ES2 -> E + P2}, {S1, S2, P1, P2}][\\[Alpha], \\[Beta]]"
   ]
  },
  {
   "cell_type": "code",
   "execution_count": null,
   "id": "58f32eca",
   "metadata": {},
   "outputs": [],
   "source": []
  }
 ],
 "metadata": {
  "kernelspec": {
   "display_name": "Wolfram Language 13",
   "language": "Wolfram Language",
   "name": "wolframlanguage13"
  },
  "language_info": {
   "codemirror_mode": "mathematica",
   "file_extension": ".m",
   "mimetype": "application/vnd.wolfram.m",
   "name": "Wolfram Language",
   "pygments_lexer": "mathematica",
   "version": "12.0"
  }
 },
 "nbformat": 4,
 "nbformat_minor": 5
}
